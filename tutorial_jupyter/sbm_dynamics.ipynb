{
 "cells": [
  {
   "cell_type": "markdown",
   "id": "a2a0c72d-95dd-447e-9cc7-dc7c46a98df9",
   "metadata": {},
   "source": [
    "# Dynamics of the Spin-Boson Model"
   ]
  },
  {
   "cell_type": "markdown",
   "id": "348ef9f7-cc2c-41ed-b96b-5f20132ffa4c",
   "metadata": {},
   "source": [
    "## Overview\n",
    "\n",
    "In this notebook we will simulate the dynamics of a 1-mode spin-boson model.\n",
    "\n",
    "$$\n",
    "    \\hat H = \\epsilon \\hat \\sigma_z + \\Delta \\hat \\sigma_x + \\omega \\hat b^\\dagger \\hat b\n",
    "              + g \\sigma_z (\\hat b^\\dagger + \\hat b)\n",
    "$$\n",
    "\n",
    "We will first start with implementing it from scratch, and then show how to use the `TimeEvolution` class for the very same task."
   ]
  },
  {
   "cell_type": "markdown",
   "id": "97c09ef0-9d7f-47bf-81c4-2693b7b83e99",
   "metadata": {},
   "source": [
    "## Determine the model and basis\n",
    "\n",
    "TenCirChem provides a simple yet versatile interface to define the Hamiltonian and the basis set.\n",
    "The Hamiltonian operators are specified through a list of `Op` object and simple harmonic oscillator (SHO) basis set is used for the boson in the spin-boson model.\n",
    "The relevant classes are borrowed from [Renormalizer](https://github.com/shuaigroup/Renormalizer)."
   ]
  },
  {
   "cell_type": "code",
   "execution_count": 1,
   "id": "c334cf97-2078-4fc8-84a5-b70931543f2a",
   "metadata": {},
   "outputs": [
    {
     "data": {
      "text/plain": [
       "([Op('sigma_z', ['spin'], 0.0),\n",
       "  Op('sigma_x', ['spin'], 1.0),\n",
       "  Op('b^\\\\dagger b', ['boson', 'boson'], 1.0),\n",
       "  Op('sigma_z b^\\\\dagger+b', ['spin', 'boson'], 0.5)],\n",
       " [BasisHalfSpin(dof: spin, nbas: 2),\n",
       "  BasisSHO(dof: boson, x0: 0.0, omega: 1, nbas: 8)])"
      ]
     },
     "execution_count": 1,
     "metadata": {},
     "output_type": "execute_result"
    }
   ],
   "source": [
    "from tencirchem import Op, BasisHalfSpin, BasisSHO\n",
    "\n",
    "epsilon = 0\n",
    "delta = 1\n",
    "omega = 1\n",
    "g = 0.5\n",
    "\n",
    "ham_terms = [\n",
    "    Op(\"sigma_z\", \"spin\", epsilon),\n",
    "    Op(\"sigma_x\", \"spin\", delta),\n",
    "    Op(r\"b^\\dagger b\", \"boson\", omega),\n",
    "    Op(\"sigma_z\", \"spin\", g) * Op(r\"b^\\dagger+b\", \"boson\"),\n",
    "]\n",
    "basis = [BasisHalfSpin(\"spin\"), BasisSHO(\"boson\", omega=omega, nbas=8)]\n",
    "ham_terms, basis"
   ]
  },
  {
   "cell_type": "markdown",
   "id": "0d6a367d-a97b-4f50-b022-5324213461ee",
   "metadata": {},
   "source": [
    "`tencirchem.dynamic.model` offers several shotcuts for common models"
   ]
  },
  {
   "cell_type": "markdown",
   "id": "162ea7fb-39f2-44cd-98d8-fe1841ad3183",
   "metadata": {},
   "source": [
    "Quantum circuit is not able to simulate the boson basis, and proper basis transform to qubit basis is required"
   ]
  },
  {
   "cell_type": "code",
   "execution_count": 2,
   "id": "f3ad77b6-07e9-432d-8a31-e2345b4bf059",
   "metadata": {},
   "outputs": [
    {
     "data": {
      "text/plain": [
       "([Op('X', ['spin'], 1.0),\n",
       "  Op('Z', [('boson', 'TCCQUBIT-0')], -2.0),\n",
       "  Op('Z Z', [('boson', 'TCCQUBIT-0'), ('boson', 'TCCQUBIT-1')], -1.0),\n",
       "  Op('Z Z Z', [('boson', 'TCCQUBIT-0'), ('boson', 'TCCQUBIT-1'), ('boson', 'TCCQUBIT-2')], -0.5),\n",
       "  Op('Z X', ['spin', ('boson', 'TCCQUBIT-2')], 0.9517337620166572),\n",
       "  Op('Z Z X', ['spin', ('boson', 'TCCQUBIT-1'), ('boson', 'TCCQUBIT-2')], -0.040295934250509535),\n",
       "  Op('Z Z X', ['spin', ('boson', 'TCCQUBIT-0'), ('boson', 'TCCQUBIT-2')], -0.26872106012443797),\n",
       "  Op('Z Z Z X', ['spin', ('boson', 'TCCQUBIT-0'), ('boson', 'TCCQUBIT-1'), ('boson', 'TCCQUBIT-2')], -0.14271676764170976),\n",
       "  Op('Z X', ['spin', ('boson', 'TCCQUBIT-1')], 0.4829629131445341),\n",
       "  Op('Z X Z', ['spin', ('boson', 'TCCQUBIT-1'), ('boson', 'TCCQUBIT-2')], -0.4829629131445341),\n",
       "  Op('Z Z X', ['spin', ('boson', 'TCCQUBIT-0'), ('boson', 'TCCQUBIT-1')], -0.12940952255126037),\n",
       "  Op('Z Z X Z', ['spin', ('boson', 'TCCQUBIT-0'), ('boson', 'TCCQUBIT-1'), ('boson', 'TCCQUBIT-2')], 0.12940952255126037),\n",
       "  Op('Z X', ['spin', ('boson', 'TCCQUBIT-0')], 0.25),\n",
       "  Op('Z X Z', ['spin', ('boson', 'TCCQUBIT-0'), ('boson', 'TCCQUBIT-2')], 0.25),\n",
       "  Op('Z X Z', ['spin', ('boson', 'TCCQUBIT-0'), ('boson', 'TCCQUBIT-1')], -0.25),\n",
       "  Op('Z X Z Z', ['spin', ('boson', 'TCCQUBIT-0'), ('boson', 'TCCQUBIT-1'), ('boson', 'TCCQUBIT-2')], -0.25)],\n",
       " 3.5,\n",
       " [BasisHalfSpin(dof: spin, nbas: 2),\n",
       "  BasisHalfSpin(dof: ('boson', 'TCCQUBIT-0'), nbas: 2),\n",
       "  BasisHalfSpin(dof: ('boson', 'TCCQUBIT-1'), nbas: 2),\n",
       "  BasisHalfSpin(dof: ('boson', 'TCCQUBIT-2'), nbas: 2)])"
      ]
     },
     "execution_count": 2,
     "metadata": {},
     "output_type": "execute_result"
    }
   ],
   "source": [
    "# transform the Hamiltonian and basis\n",
    "from tencirchem.dynamic import qubit_encode_op, qubit_encode_basis\n",
    "\n",
    "boson_encoding = \"gray\"\n",
    "ham_terms_spin, constant = qubit_encode_op(ham_terms, basis, boson_encoding)\n",
    "basis_spin = qubit_encode_basis(basis, boson_encoding)\n",
    "# boson basis is transformed to spin basis\n",
    "ham_terms_spin, constant, basis_spin"
   ]
  },
  {
   "cell_type": "markdown",
   "id": "a0d2d5ea-2b9e-47ec-b21c-0cda341bcc4d",
   "metadata": {},
   "source": [
    "## Construct ansatz\n",
    "\n",
    "TenCirChem uses the variational Hamiltonian ansatz. Suppose the Hamiltonian has $N$ terms and is written as \n",
    "\n",
    "$$\n",
    "\\hat H = \\sum_j^N \\hat h_j\n",
    "$$ \n",
    "\n",
    "The the variational Hamiltonian ansatz has the form\n",
    "$$\n",
    "| \\psi \\rangle = \\prod_k^M \\prod_j^N e^{-i \\theta_{kj} \\hat h_j} | \\phi \\rangle\n",
    "$$\n",
    "\n",
    "where $| \\phi \\rangle$ is the initial state, $\\theta_{kj}$ is the circuit parameter and $M$ is number of layers for the ansatz."
   ]
  },
  {
   "cell_type": "code",
   "execution_count": 3,
   "id": "2ffaaa62-c1f3-4741-afbc-fb4d5559a0ab",
   "metadata": {},
   "outputs": [
    {
     "data": {
      "text/plain": [
       "DeviceArray([1.+0.j, 0.+0.j, 0.+0.j, 0.+0.j, 0.+0.j, 0.+0.j, 0.+0.j,\n",
       "             0.+0.j, 0.+0.j, 0.+0.j, 0.+0.j, 0.+0.j, 0.+0.j, 0.+0.j,\n",
       "             0.+0.j, 0.+0.j], dtype=complex128)"
      ]
     },
     "execution_count": 3,
     "metadata": {},
     "output_type": "execute_result"
    }
   ],
   "source": [
    "import tensorcircuit as tc\n",
    "from tencirchem import set_backend\n",
    "from tencirchem.dynamic import get_ansatz, get_jacobian_func, get_deriv\n",
    "\n",
    "# dynamics simulation requires auto-differentiation from JAX.\n",
    "set_backend(\"jax\")\n",
    "\n",
    "# the initial state\n",
    "init_circuit = tc.Circuit(len(basis_spin))\n",
    "# number of layers\n",
    "n_layers = 3\n",
    "# get the ansatz. Note that the spin basis is feed in\n",
    "ansatz = get_ansatz(ham_terms_spin, basis_spin, n_layers, init_circuit)\n",
    "\n",
    "# ansatz accepts parameters and outputs wavefunction\n",
    "import numpy as np\n",
    "\n",
    "ansatz(np.zeros(n_layers * len(ham_terms_spin)))"
   ]
  },
  {
   "cell_type": "markdown",
   "id": "30146ff6-d6b4-4f22-aa8a-f0b2ce681522",
   "metadata": {},
   "source": [
    "The jacobian matrix for the wavefunction $\\partial | \\psi \\rangle / \\partial \\theta_{kj}$ is required to perform VQA dynamics based on TDVP. "
   ]
  },
  {
   "cell_type": "code",
   "execution_count": 4,
   "id": "5913f357-9f6c-4321-9424-eb5da6c475e8",
   "metadata": {},
   "outputs": [],
   "source": [
    "# the funcction to evaluate the jacobian of the wavefunction\n",
    "jacobian_func = get_jacobian_func(ansatz)"
   ]
  },
  {
   "cell_type": "markdown",
   "id": "f589ba52-156b-4e20-b531-783e5fec3b88",
   "metadata": {},
   "source": [
    "Compute time derivative $\\dot \\theta$ based on McLachlan's variational principle\n",
    "\n",
    "$$\n",
    " \\textrm{Re} M  \\theta =  \\textrm{Im} V   \n",
    "$$\n",
    "\n",
    "Here $M$ is a matrix and $V$ is a vector\n",
    "\n",
    "$$\n",
    "M = \\frac{\\partial \\langle \\psi | }{\\partial \\theta_{kj}}  \\frac{\\partial | \\psi \\rangle }{\\partial \\theta_{k'j'}}\n",
    "$$\n",
    "$$\n",
    "   V = \\frac{\\partial \\langle \\psi | }{\\partial \\theta_{kj}} | \\hat H | \\psi \\rangle\n",
    "$$"
   ]
  },
  {
   "cell_type": "code",
   "execution_count": 5,
   "id": "3b1b1882-18d4-4448-82a1-7847739fe9a2",
   "metadata": {},
   "outputs": [],
   "source": [
    "# the Hamiltonian in dense matrix format\n",
    "from tencirchem import get_dense_operator\n",
    "\n",
    "h = get_dense_operator(basis_spin, ham_terms_spin)\n",
    "\n",
    "\n",
    "# time derivative for $\\theta_{kj}$ in the scipy solve_ivp format\n",
    "def scipy_deriv(t, _theta):\n",
    "    return get_deriv(ansatz, jacobian_func, _theta, h)"
   ]
  },
  {
   "cell_type": "markdown",
   "id": "0f93589d-e65b-491e-aa30-50dedc501737",
   "metadata": {},
   "source": [
    "## Run simulation\n",
    "\n",
    "Use SciPy RK45 solver to solve the $\\theta$ initial value problem (IVP). Calculate $\\langle \\hat \\sigma_z \\rangle$ for plotting."
   ]
  },
  {
   "cell_type": "code",
   "execution_count": 6,
   "id": "d9ce150b-a716-4b63-bbb3-af8defe96228",
   "metadata": {},
   "outputs": [],
   "source": [
    "from scipy.integrate import solve_ivp\n",
    "from scipy.linalg import expm\n",
    "\n",
    "# time step\n",
    "tau = 0.1\n",
    "# initial value\n",
    "theta = np.zeros(n_layers * len(ham_terms_spin))\n",
    "# operator to measure Z\n",
    "z_op = get_dense_operator(basis_spin, Op(\"Z\", \"spin\"))\n",
    "z_list = [1]\n",
    "# for reference\n",
    "z_exact_list = [1]\n",
    "for n in range(100):\n",
    "    # time evolution\n",
    "    scipy_sol = solve_ivp(scipy_deriv, [n * tau, (n + 1) * tau], theta)\n",
    "    # time evolved parameter\n",
    "    theta = scipy_sol.y[:, -1]\n",
    "    # calculate expectation\n",
    "    state = ansatz(theta)\n",
    "    z_list.append((state.conj().T @ z_op @ state).real)\n",
    "    state_exact = expm(-1j * (n + 1) * tau * h) @ init_circuit.state()\n",
    "    z_exact_list.append((state_exact.conj().T @ z_op @ state_exact).real)"
   ]
  },
  {
   "cell_type": "markdown",
   "id": "8bd1f7a3-0f9c-4e36-9ead-5eb7a5224407",
   "metadata": {},
   "source": [
    "## Plot"
   ]
  },
  {
   "cell_type": "code",
   "execution_count": 7,
   "id": "dd7616e7-993b-4308-85e5-b620c150a046",
   "metadata": {},
   "outputs": [
    {
     "data": {
      "text/plain": [
       "<matplotlib.legend.Legend at 0x7ff5484ae950>"
      ]
     },
     "execution_count": 7,
     "metadata": {},
     "output_type": "execute_result"
    },
    {
     "data": {
      "image/png": "[encoded data removed]",
      "text/plain": [
       "<Figure size 400x300 with 1 Axes>"
      ]
     },
     "metadata": {},
     "output_type": "display_data"
    }
   ],
   "source": [
    "from matplotlib import pyplot as plt\n",
    "import mpl_config\n",
    "\n",
    "t = np.arange(101) * tau\n",
    "plt.plot(t, z_list, label=\"Variational\")\n",
    "plt.plot(t, z_exact_list, linestyle=\"--\", label=\"Exact\")\n",
    "plt.xlim(0, 10)\n",
    "plt.ylim(-1, 1)\n",
    "plt.xlabel(\"$t$\")\n",
    "plt.ylabel(r\"$\\langle \\sigma_z \\rangle$\")\n",
    "plt.legend(loc=(1, 0.75))"
   ]
  },
  {
   "cell_type": "markdown",
   "id": "9699fb37-1a78-41fd-989a-ad43853849e8",
   "metadata": {},
   "source": [
    "## Use ``TimeEvolution`` class\n",
    "In this subsection we show how to use the ``TimeEvolution`` class to  greatly simplify the workflow."
   ]
  },
  {
   "cell_type": "code",
   "execution_count": 8,
   "id": "ed91ebfd-4a46-441b-ba79-b4a743ec4de6",
   "metadata": {},
   "outputs": [],
   "source": [
    "from tencirchem import TimeEvolution\n",
    "\n",
    "te = TimeEvolution(ham_terms_spin, basis_spin, property_op_dict={\"Z\": Op(\"Z\", \"spin\")})\n",
    "for i in range(100):\n",
    "    te.kernel(tau)"
   ]
  },
  {
   "cell_type": "code",
   "execution_count": 9,
   "id": "e9ab006c-2379-4104-9c93-c4c6357df5c0",
   "metadata": {},
   "outputs": [
    {
     "data": {
      "image/png": "[encoded data removed]",
      "text/plain": [
       "<Figure size 400x300 with 1 Axes>"
      ]
     },
     "metadata": {},
     "output_type": "display_data"
    }
   ],
   "source": [
    "plt.plot(te.t_list, te.properties[\"Z\"][:, 0].real, label=\"Variational\")\n",
    "plt.plot(te.t_list, te.properties[\"Z\"][:, 1].real, linestyle=\"--\", label=\"Exact\")\n",
    "plt.xlim(0, 10)\n",
    "plt.ylim(-1, 1)\n",
    "plt.xlabel(\"$t$\")\n",
    "plt.ylabel(r\"$\\langle \\sigma_z \\rangle$\")\n",
    "plt.legend(loc=(1, 0.75))\n",
    "plt.savefig(\"sbm.pdf\")"
   ]
  }
 ],
 "metadata": {
  "kernelspec": {
   "display_name": "Python 3 (ipykernel)",
   "language": "python",
   "name": "python3"
  },
  "language_info": {
   "codemirror_mode": {
    "name": "ipython",
    "version": 3
   },
   "file_extension": ".py",
   "mimetype": "text/x-python",
   "name": "python",
   "nbconvert_exporter": "python",
   "pygments_lexer": "ipython3",
   "version": "3.7.13"
  }
 },
 "nbformat": 4,
 "nbformat_minor": 5
}
